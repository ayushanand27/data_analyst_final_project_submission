{
 "cells": [
  {
   "cell_type": "markdown",
   "id": "2e60b7c9",
   "metadata": {},
   "source": [
    "# Telecom Customer Churn Prediction – End-to-End Notebook\n",
    "\n",
    "- Executive summary and business context\n",
    "- Data loading/generation, preprocessing, and feature engineering\n",
    "- Models: RandomForest, XGBoost, LogisticRegression with GridSearchCV\n",
    "- Evaluation: classification report, confusion matrix, ROC-AUC\n",
    "- Explainability: SHAP and ELI5 (feature importances, force plots, summaries)\n",
    "- Customer segmentation and dashboards\n",
    "- Save best model and metrics"
   ]
  },
  {
   "cell_type": "code",
   "execution_count": null,
   "id": "ee18cc05",
   "metadata": {},
   "outputs": [],
   "source": [
    "# Ensure project root is on sys.path for local imports\n",
    "import sys\n",
    "from pathlib import Path\n",
    "nb_cwd = Path.cwd()\n",
    "proj_root = nb_cwd if (nb_cwd / 'src').exists() else nb_cwd.parent\n",
    "if str(proj_root) not in sys.path:\n",
    "    sys.path.insert(0, str(proj_root))\n",
    "print('Using project root for imports:', proj_root)"
   ]
  },
  {
   "cell_type": "code",
   "execution_count": null,
   "id": "4a4d3ee1",
   "metadata": {},
   "outputs": [],
   "source": [
    "# Setup\n",
    "import os, json, warnings\n",
    "warnings.filterwarnings('ignore')\n",
    "\n",
    "import numpy as np\n",
    "import pandas as pd\n",
    "import matplotlib.pyplot as plt\n",
    "import seaborn as sns\n",
    "\n",
    "from pathlib import Path\n",
    "from typing import Tuple\n",
    "\n",
    "from sklearn.model_selection import train_test_split, GridSearchCV, StratifiedKFold\n",
    "from sklearn.preprocessing import StandardScaler\n",
    "from sklearn.pipeline import Pipeline\n",
    "from sklearn.metrics import classification_report, roc_auc_score, f1_score, accuracy_score, confusion_matrix, roc_curve\n",
    "from sklearn.ensemble import RandomForestClassifier\n",
    "from sklearn.linear_model import LogisticRegression\n",
    "\n",
    "from xgboost import XGBClassifier\n",
    "import shap, eli5\n",
    "from eli5.sklearn import PermutationImportance\n",
    "import joblib\n",
    "\n",
    "# Local modules\n",
    "from src.data_generation import get_dataset\n",
    "\n",
    "BASE = Path('..').resolve().parent if Path('.').name == 'notebooks' else Path('.')\n",
    "OUTPUTS = BASE / 'outputs'\n",
    "OUTPUTS.mkdir(parents=True, exist_ok=True)\n",
    "SEED = 42\n",
    "np.random.seed(SEED)\n",
    "print('Outputs dir:', OUTPUTS)"
   ]
  },
  {
   "cell_type": "markdown",
   "id": "503225ca",
   "metadata": {},
   "source": [
    "## Data loading / generation\n",
    "Generate synthetic dataset (10k customers, 6 months)."
   ]
  }
 ],
 "metadata": {
  "kernelspec": {
   "display_name": "Python 3 (ipykernel)",
   "language": "python",
   "name": "python3"
  },
  "language_info": {
   "codemirror_mode": {
    "name": "ipython",
    "version": 3
   },
   "file_extension": ".py",
   "mimetype": "text/x-python",
   "name": "python",
   "nbconvert_exporter": "python",
   "pygments_lexer": "ipython3",
   "version": "3.13.1"
  }
 },
 "nbformat": 4,
 "nbformat_minor": 5
}
